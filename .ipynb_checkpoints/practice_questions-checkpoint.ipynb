{
 "cells": [
  {
   "cell_type": "code",
   "execution_count": null,
   "metadata": {},
   "outputs": [],
   "source": [
    "#Q:1. What are the two values of the Boolean data type? \n",
    "#How do you write them? \n",
    "#True and False"
   ]
  },
  {
   "cell_type": "code",
   "execution_count": null,
   "metadata": {},
   "outputs": [],
   "source": [
    "#Q:2. What are the three Boolean operators? \n",
    "#(and, or, and not)"
   ]
  },
  {
   "cell_type": "code",
   "execution_count": null,
   "metadata": {},
   "outputs": [],
   "source": [
    "#Q:3. Write out the truth tables of each Boolean \n",
    "#operator (that is, every possible combination \n",
    "#of Boolean values for the operator and what they \n",
    "#evaluate to). True and True = True, True and False =False\n",
    "#False and True = False, False and False = False\n",
    "#True or True = True, True or False = True, False or True \n",
    "#= True, False or False = False\n",
    "#not True = False, not False = True"
   ]
  },
  {
   "cell_type": "code",
   "execution_count": null,
   "metadata": {},
   "outputs": [],
   "source": [
    "#Q:4. What do the following expressions evaluate to?\n",
    "#(5 > 4) and (3 == 5)False\n",
    "#not (5 > 4)False\n",
    "#(5 > 4) or (3 == 5)True\n",
    "#not ((5 > 4) or (3 == 5))False\n",
    "#(True and True) and (True == False)False\n",
    "#(not False) or (not True)True"
   ]
  },
  {
   "cell_type": "code",
   "execution_count": null,
   "metadata": {},
   "outputs": [],
   "source": [
    "#Q:5. What are the six comparison operators?\n",
    "<, >, <=, >=, !=, =="
   ]
  },
  {
   "cell_type": "code",
   "execution_count": null,
   "metadata": {},
   "outputs": [],
   "source": [
    "#Q:6. What is the difference between the equal to \n",
    "#operator and the assignment operator?\n",
    "#The == operator (equal to) asks whether two values are\n",
    "#the same as each other.\n",
    "#The = operator (assignment) puts the value on the right\n",
    "#into the variable on the left."
   ]
  },
  {
   "cell_type": "code",
   "execution_count": null,
   "metadata": {},
   "outputs": [],
   "source": [
    "#Q:7. Explain what a condition is and where you would \n",
    "#use one. \n",
    "#Conditions always evaluate down to a Boolean value, \n",
    "#True or False.  \n",
    "#You use a condition in a flow control statement"
   ]
  },
  {
   "cell_type": "code",
   "execution_count": 23,
   "metadata": {},
   "outputs": [
    {
     "name": "stdout",
     "output_type": "stream",
     "text": [
      "ham\n"
     ]
    }
   ],
   "source": [
    "#Q:8. Identify the three blocks in this code:\n",
    "spam = 5\n",
    "if spam == 10:\n",
    "    print(\"eggs\")           \n",
    "if spam > 5:\n",
    "    print(\"bacon\")\n",
    "else:\n",
    "    print(\"ham\") \n",
    "#print(\"spam\")\n",
    "#print(\"spam\")"
   ]
  },
  {
   "cell_type": "code",
   "execution_count": 27,
   "metadata": {},
   "outputs": [
    {
     "name": "stdout",
     "output_type": "stream",
     "text": [
      "Greetings!\n"
     ]
    }
   ],
   "source": [
    "#Q:9. Write code that prints Hello if 1 is stored in \n",
    "#spam, prints Howdy if 2 is stored in spam, and prints \n",
    "#Greetings! if anything else is stored in \n",
    "spam = 0\n",
    "if spam == 1:\n",
    "    print(\"Hello!\")\n",
    "elif spam == 2:\n",
    "    print(\"Howdy!\")\n",
    "else:\n",
    "    print(\"Greetings!\")"
   ]
  },
  {
   "cell_type": "code",
   "execution_count": null,
   "metadata": {},
   "outputs": [],
   "source": [
    "#Q10. What can you press if your program is stuck in an\n",
    "#infinite loop? \n",
    "#CTRL-C\n"
   ]
  },
  {
   "cell_type": "code",
   "execution_count": null,
   "metadata": {},
   "outputs": [],
   "source": [
    "#Q:11. What is the difference between break and \n",
    "#continue? \n",
    "#break exits the while loop’s clause, \n",
    "#continue jumps back to the start of the loop."
   ]
  },
  {
   "cell_type": "code",
   "execution_count": null,
   "metadata": {},
   "outputs": [],
   "source": [
    "#Q:12. What is the difference between range(10), \n",
    "#range(0, 10), and range(0, 10, 1) in a for loop? \n",
    "#range(10) = 10 iterations, \n",
    "#range(0, 10)The first argument will be where the for \n",
    "#loop’s variable starts, and the second argument will \n",
    "#be up to, but not including, the number to stop at, \n",
    "#range(0, 10, 1)The first two arguments will be the \n",
    "#start and stop values, and the third will be the step\n",
    "#argument."
   ]
  },
  {
   "cell_type": "code",
   "execution_count": null,
   "metadata": {},
   "outputs": [],
   "source": [
    "#Q:13. Write a short program that prints the \n",
    "#numbers 1 to 10 using a for loop. \n",
    "#Then write an equivalent program that prints \n",
    "#the numbers 1 to 10 using a while loop.\n",
    "for i in range(1, 11):\n",
    "    print(i)"
   ]
  },
  {
   "cell_type": "code",
   "execution_count": 33,
   "metadata": {},
   "outputs": [
    {
     "name": "stdout",
     "output_type": "stream",
     "text": [
      "1\n",
      "2\n",
      "3\n",
      "4\n",
      "5\n",
      "6\n",
      "7\n",
      "8\n",
      "9\n",
      "10\n"
     ]
    }
   ],
   "source": [
    "i = 1 #you need to initialize a counter\n",
    "while i <= 10:\n",
    "    print(i)\n",
    "    i = i + 1 #you need to increment the counter"
   ]
  },
  {
   "cell_type": "code",
   "execution_count": null,
   "metadata": {},
   "outputs": [],
   "source": [
    "#Q:14. If you had a function named bacon() inside a \n",
    "#module named spam, how would you call it after \n",
    "#importing spam?\n",
    "#spam.bacon()\n",
    "\n"
   ]
  },
  {
   "cell_type": "code",
   "execution_count": 29,
   "metadata": {},
   "outputs": [
    {
     "name": "stdout",
     "output_type": "stream",
     "text": [
      "2.67\n",
      "10\n",
      "11\n",
      "6\n"
     ]
    }
   ],
   "source": [
    "print(round(2.665, 2))\n",
    "\n",
    "# for integers\n",
    "print(round(10))\n",
    "\n",
    "# for floating point\n",
    "print(round(10.7))\n",
    "\n",
    "# even choice\n",
    "print(round(5.5))"
   ]
  },
  {
   "cell_type": "code",
   "execution_count": 30,
   "metadata": {},
   "outputs": [
    {
     "name": "stdout",
     "output_type": "stream",
     "text": [
      "2.67\n"
     ]
    }
   ],
   "source": [
    "# cannot be represented exactly as float\n",
    "print(round(2.675, 2))"
   ]
  },
  {
   "cell_type": "code",
   "execution_count": 31,
   "metadata": {},
   "outputs": [
    {
     "name": "stdout",
     "output_type": "stream",
     "text": [
      "Absolute value of -20 is: 20\n",
      "Absolute value of -30.33 is: 30.33\n"
     ]
    }
   ],
   "source": [
    "# random integer\n",
    "integer = -20\n",
    "print('Absolute value of -20 is:', abs(integer))\n",
    "\n",
    "#random floating number\n",
    "floating = -30.33\n",
    "print('Absolute value of -30.33 is:', abs(floating))"
   ]
  },
  {
   "cell_type": "code",
   "execution_count": 32,
   "metadata": {},
   "outputs": [
    {
     "name": "stdout",
     "output_type": "stream",
     "text": [
      "Magnitude of 3 - 4j is: 5.0\n"
     ]
    }
   ],
   "source": [
    "# random complex number\n",
    "complex = (3 - 4j)\n",
    "print('Magnitude of 3 - 4j is:', abs(complex))"
   ]
  }
 ],
 "metadata": {
  "kernelspec": {
   "display_name": "Python 3",
   "language": "python",
   "name": "python3"
  },
  "language_info": {
   "codemirror_mode": {
    "name": "ipython",
    "version": 3
   },
   "file_extension": ".py",
   "mimetype": "text/x-python",
   "name": "python",
   "nbconvert_exporter": "python",
   "pygments_lexer": "ipython3",
   "version": "3.7.0"
  }
 },
 "nbformat": 4,
 "nbformat_minor": 2
}
